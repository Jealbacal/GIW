{
 "cells": [
  {
   "cell_type": "code",
   "execution_count": null,
   "metadata": {},
   "outputs": [],
   "source": [
    "import requests\n",
    "from bs4 import BeautifulSoup\n",
    "import string\n",
    "\n",
    "url = \"https://books.toscrape.com/\"\n",
    "def explora_categoria(url):\n",
    "    categorias = set()\n",
    "    response = requests.get(url)\n",
    "    soup = BeautifulSoup(response.text, 'html.parser')\n",
    "    categorias = []\n",
    "    c=set(string.ascii_lowercase)\n",
    "\n",
    "    for categoria in soup.find('ul', class_='nav-list').find_all('a')[1:]:#de la lsita en la que estan todas las categorias quiero todas\n",
    "                                                                            #menos la primera que es el general de books\n",
    "        nombre = categoria.text.strip()\n",
    "        \n",
    "        new_url = \"https://books.toscrape.com/\" + categoria['href']#ahora tengo que ir al enlace de los libros de cada categoria y contarlos\n",
    "        response2 = requests.get(new_url)\n",
    "        soup2 = BeautifulSoup(response2.text, 'html.parser')\n",
    "        libros =  soup2.select('h3 a')\n",
    "        \n",
    "        categorias.append((nombre, len(libros)))#lo devuevle bien pero no como debe ser\n",
    "        c.add((nombre, len(libros)))#rarete lo devuelve alf\n",
    "        \n",
    "        \n",
    "    \n",
    "        \n",
    "    return c\n",
    "\n",
    "#explora_categoria(url)"
   ]
  },
  {
   "cell_type": "code",
   "execution_count": null,
   "metadata": {},
   "outputs": [],
   "source": [
    "def url_categoria(nombre):\n",
    "    response = requests.get(url)\n",
    "    soup = BeautifulSoup(response.text, 'html.parser')\n",
    "    etiquetas = soup.find('ul', class_='nav-list').find_all('a')[1:]\n",
    "    for etiqueta in etiquetas:\n",
    "        if etiqueta.text.strip().lower() == nombre.lower():\n",
    "            return url + etiqueta.get('href')\n",
    "\n",
    "    return  None  \n",
    "        \n",
    "\n",
    "url_categoria(\"travel\")"
   ]
  },
  {
   "cell_type": "code",
   "execution_count": null,
   "metadata": {},
   "outputs": [],
   "source": [
    "from urllib.parse import urljoin\n",
    "def todas_las_paginas(url):\n",
    "\n",
    "    response = requests.get(url)\n",
    "    soup = BeautifulSoup(response.text, 'html.parser')\n",
    "    result=[]\n",
    "    result.append(url)\n",
    "    siguiente= soup.find('li',class_='next')\n",
    "    while siguiente is not None:\n",
    "        siguiente_href =siguiente.find('a').get('href')\n",
    "        newUrl= urljoin(url,siguiente_href)\n",
    "        result.append(newUrl)\n",
    "        response2 = requests.get(newUrl)\n",
    "        soup2 = BeautifulSoup(response2.text, 'html.parser')\n",
    "        siguiente= soup2.find('li',class_='next')\n",
    "        \n",
    "        \n",
    "    \n",
    "\n",
    "    return result\n",
    "todas_las_paginas('https://books.toscrape.com/catalogue/category/books/fiction_10/index.html')"
   ]
  },
  {
   "cell_type": "code",
   "execution_count": 46,
   "metadata": {},
   "outputs": [],
   "source": [
    "def numeros(numero):\n",
    "    if(numero == 'One'):\n",
    "        return 1\n",
    "    elif(numero == 'Two'):\n",
    "        return 2\n",
    "    elif(numero == 'Three'):\n",
    "        return 3\n",
    "    elif(numero == 'Four'):\n",
    "        return 4\n",
    "    elif(numero == 'Five'):\n",
    "        return 5\n",
    "    else:\n",
    "        return None"
   ]
  },
  {
   "cell_type": "code",
   "execution_count": 95,
   "metadata": {},
   "outputs": [
    {
     "data": {
      "text/plain": [
       "{('A Flight of Arrows (The Pathfinders #2)', 55.53, 5),\n",
       " ('A Paris Apartment', 39.01, 4),\n",
       " (\"A Spy's Devotion (The Regency Spies of London #1)\", 16.97, 5),\n",
       " ('Between Shades of Gray', 20.79, 5),\n",
       " ('Forever and Forever: The Courtship of Henry Longfellow and Fanny Appleton',\n",
       "  29.69,\n",
       "  3),\n",
       " ('Girl With a Pearl Earring', 26.77, 1),\n",
       " ('Girl in the Blue Coat', 46.83, 2),\n",
       " ('Glory over Everything: Beyond The Kitchen House', 45.84, 3),\n",
       " ('Lilac Girls', 17.28, 2),\n",
       " ('Lost Among the Living', 27.7, 4),\n",
       " ('Love, Lies and Spies', 20.55, 2),\n",
       " ('Mrs. Houdini', 30.25, 5),\n",
       " ('Starlark', 25.83, 3),\n",
       " ('The Constant Princess (The Tudor Court #1)', 16.62, 3),\n",
       " ('The Guernsey Literary and Potato Peel Pie Society', 49.53, 1),\n",
       " ('The House by the Lake', 36.95, 1),\n",
       " ('The Invention of Wings', 37.34, 1),\n",
       " ('The Last Painting of Sara de Vos', 55.55, 2),\n",
       " ('The Marriage of Opposites', 28.08, 4),\n",
       " ('The Passion of Dolssa', 28.32, 5),\n",
       " ('The Red Tent', 35.66, 5),\n",
       " ('The Secret Healer', 34.56, 3),\n",
       " ('Tipping the Velvet', 53.74, 1),\n",
       " ('Voyager (Outlander #3)', 21.07, 5),\n",
       " ('While You Were Mine', 41.32, 5),\n",
       " ('World Without End (The Pillars of the Earth #2)', 32.97, 4)}"
      ]
     },
     "execution_count": 95,
     "metadata": {},
     "output_type": "execute_result"
    }
   ],
   "source": [
    "def libros_categoria(categoria):\n",
    "    urlcategoria = url_categoria(categoria)\n",
    "    links=todas_las_paginas(urlcategoria)\n",
    "    conjunto = set()\n",
    "    for link in links:\n",
    "        reponse =requests.get(link)\n",
    "        soup = BeautifulSoup(reponse.text,'html.parser')\n",
    "        libros = soup.find_all('li',class_='col-xs-6 col-sm-4 col-md-3 col-lg-3')\n",
    "        \n",
    "        for libro in libros:\n",
    "            \n",
    "            info =libro.find('article',class_='product_pod')\n",
    "            nombre = info.find('h3').find('a').get('title')\n",
    "            precio = float(info.find('div', class_=\"product_price\").find('p',class_ ='price_color').text.strip()[2:])\n",
    "            valoracion = numeros(info.find('p')['class'][1])\n",
    "            info_libro = (nombre,precio,valoracion)\n",
    "            conjunto.add(info_libro)\n",
    "\n",
    "\n",
    "    return conjunto\n",
    "libros_categoria('Historical Fiction')  "
   ]
  },
  {
   "cell_type": "code",
   "execution_count": null,
   "metadata": {},
   "outputs": [],
   "source": []
  }
 ],
 "metadata": {
  "kernelspec": {
   "display_name": "Python 3",
   "language": "python",
   "name": "python3"
  },
  "language_info": {
   "codemirror_mode": {
    "name": "ipython",
    "version": 3
   },
   "file_extension": ".py",
   "mimetype": "text/x-python",
   "name": "python",
   "nbconvert_exporter": "python",
   "pygments_lexer": "ipython3",
   "version": "3.10.2"
  }
 },
 "nbformat": 4,
 "nbformat_minor": 2
}
