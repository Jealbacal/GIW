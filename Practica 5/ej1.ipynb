{
 "cells": [
  {
   "cell_type": "code",
   "execution_count": null,
   "metadata": {},
   "outputs": [],
   "source": [
    "import requests\n",
    "from bs4 import BeautifulSoup\n",
    "import string\n",
    "\n",
    "url = \"https://books.toscrape.com/\"\n",
    "def explora_categoria(url):\n",
    "    categorias = set()\n",
    "    response = requests.get(url)\n",
    "    soup = BeautifulSoup(response.text, 'html.parser')\n",
    "    categorias = []\n",
    "    c=set(string.ascii_lowercase)\n",
    "\n",
    "    for categoria in soup.find('ul', class_='nav-list').find_all('a')[1:]:#de la lsita en la que estan todas las categorias quiero todas\n",
    "                                                                            #menos la primera que es el general de books\n",
    "        nombre = categoria.text.strip()\n",
    "        \n",
    "        new_url = \"https://books.toscrape.com/\" + categoria['href']#ahora tengo que ir al enlace de los libros de cada categoria y contarlos\n",
    "        response2 = requests.get(new_url)\n",
    "        soup2 = BeautifulSoup(response2.text, 'html.parser')\n",
    "        libros =  soup2.select('h3 a')\n",
    "        \n",
    "        categorias.append((nombre, len(libros)))#lo devuevle bien pero no como debe ser\n",
    "        c.add((nombre, len(libros)))#rarete lo devuelve alf\n",
    "        \n",
    "        \n",
    "    \n",
    "        \n",
    "    return c\n",
    "\n",
    "explora_categoria(url)"
   ]
  }
 ],
 "metadata": {
  "language_info": {
   "name": "python"
  }
 },
 "nbformat": 4,
 "nbformat_minor": 2
}
